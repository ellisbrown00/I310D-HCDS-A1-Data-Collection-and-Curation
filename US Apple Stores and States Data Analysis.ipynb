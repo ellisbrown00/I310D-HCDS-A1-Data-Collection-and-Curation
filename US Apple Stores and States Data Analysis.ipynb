{
 "cells": [
  {
   "cell_type": "markdown",
   "id": "56f87786",
   "metadata": {},
   "source": [
    "# US Apple Stores and States Data Analysis\n",
    "\n",
    "Below we are going to analyze some data from US Apple Stores and States"
   ]
  },
  {
   "cell_type": "markdown",
   "id": "50ceefa1",
   "metadata": {},
   "source": [
    "Import functions to use in data analysis and processing"
   ]
  },
  {
   "cell_type": "code",
   "execution_count": 31,
   "id": "a037f591",
   "metadata": {},
   "outputs": [],
   "source": [
    "import pandas as pd \n",
    "import numpy as np\n",
    "import matplotlib.pyplot as plt"
   ]
  },
  {
   "cell_type": "markdown",
   "id": "d12ad91d",
   "metadata": {},
   "source": [
    "Read in CSV files for processing"
   ]
  },
  {
   "cell_type": "code",
   "execution_count": 32,
   "id": "d9f43ccd",
   "metadata": {},
   "outputs": [],
   "source": [
    "df = pd.read_csv('USAppleStores.csv')\n",
    "pop = pd.read_csv('US City Populations.csv')"
   ]
  },
  {
   "cell_type": "markdown",
   "id": "cf085732",
   "metadata": {},
   "source": [
    "Check data type of each attribute/column of each file"
   ]
  },
  {
   "cell_type": "code",
   "execution_count": 11,
   "id": "cd9d011c",
   "metadata": {},
   "outputs": [
    {
     "name": "stdout",
     "output_type": "stream",
     "text": [
      "Store_Name <class 'str'>\n",
      "Street_Address <class 'str'>\n",
      "City <class 'str'>\n",
      "State <class 'str'>\n",
      "Zip <class 'numpy.int64'>\n",
      "Phone <class 'str'>\n",
      "Latitude <class 'numpy.float64'>\n",
      "Longitude <class 'numpy.float64'>\n"
     ]
    }
   ],
   "source": [
    "for col in df.columns:\n",
    "    print(col, type(df[col][0]))"
   ]
  },
  {
   "cell_type": "code",
   "execution_count": 12,
   "id": "c3497c31",
   "metadata": {},
   "outputs": [
    {
     "name": "stdout",
     "output_type": "stream",
     "text": [
      "State <class 'str'>\n",
      "City <class 'str'>\n",
      "Population <class 'str'>\n",
      "Unnamed: 3 <class 'numpy.float64'>\n",
      "Unnamed: 4 <class 'numpy.float64'>\n",
      "Unnamed: 5 <class 'numpy.float64'>\n",
      "Unnamed: 6 <class 'numpy.float64'>\n"
     ]
    }
   ],
   "source": [
    "for col in pop.columns:\n",
    "    print(col, type(pop[col][0]))"
   ]
  },
  {
   "cell_type": "markdown",
   "id": "466412a6",
   "metadata": {},
   "source": [
    "Check head and tail of each file"
   ]
  },
  {
   "cell_type": "code",
   "execution_count": 14,
   "id": "dd16693a",
   "metadata": {},
   "outputs": [
    {
     "data": {
      "text/html": [
       "<div>\n",
       "<style scoped>\n",
       "    .dataframe tbody tr th:only-of-type {\n",
       "        vertical-align: middle;\n",
       "    }\n",
       "\n",
       "    .dataframe tbody tr th {\n",
       "        vertical-align: top;\n",
       "    }\n",
       "\n",
       "    .dataframe thead th {\n",
       "        text-align: right;\n",
       "    }\n",
       "</style>\n",
       "<table border=\"1\" class=\"dataframe\">\n",
       "  <thead>\n",
       "    <tr style=\"text-align: right;\">\n",
       "      <th></th>\n",
       "      <th>Store_Name</th>\n",
       "      <th>Street_Address</th>\n",
       "      <th>City</th>\n",
       "      <th>State</th>\n",
       "      <th>Zip</th>\n",
       "      <th>Phone</th>\n",
       "      <th>Latitude</th>\n",
       "      <th>Longitude</th>\n",
       "    </tr>\n",
       "  </thead>\n",
       "  <tbody>\n",
       "    <tr>\n",
       "      <th>0</th>\n",
       "      <td>The Summit</td>\n",
       "      <td>217 Summit Boulevard</td>\n",
       "      <td>Birmingham</td>\n",
       "      <td>AL</td>\n",
       "      <td>35243</td>\n",
       "      <td>(205) 909-2570</td>\n",
       "      <td>33.446515</td>\n",
       "      <td>-86.729632</td>\n",
       "    </tr>\n",
       "    <tr>\n",
       "      <th>1</th>\n",
       "      <td>Bridge Street</td>\n",
       "      <td>320 The Bridge Street</td>\n",
       "      <td>Huntsville</td>\n",
       "      <td>AL</td>\n",
       "      <td>35806</td>\n",
       "      <td>(256) 327-8800</td>\n",
       "      <td>34.716019</td>\n",
       "      <td>-86.672816</td>\n",
       "    </tr>\n",
       "    <tr>\n",
       "      <th>2</th>\n",
       "      <td>Anchorage 5th Avenue Mall</td>\n",
       "      <td>320 West 5th Avenue</td>\n",
       "      <td>Anchorage</td>\n",
       "      <td>AK</td>\n",
       "      <td>99501</td>\n",
       "      <td>(907) 257-1900</td>\n",
       "      <td>61.217081</td>\n",
       "      <td>-149.888511</td>\n",
       "    </tr>\n",
       "    <tr>\n",
       "      <th>3</th>\n",
       "      <td>Chandler Fashion Center</td>\n",
       "      <td>3111 W Chandler Boulevard</td>\n",
       "      <td>Chandler</td>\n",
       "      <td>AZ</td>\n",
       "      <td>85226</td>\n",
       "      <td>(480) 636-3900</td>\n",
       "      <td>33.305673</td>\n",
       "      <td>-111.897756</td>\n",
       "    </tr>\n",
       "    <tr>\n",
       "      <th>4</th>\n",
       "      <td>SanTan Village</td>\n",
       "      <td>2218 E. Williams Field Road</td>\n",
       "      <td>Gilbert</td>\n",
       "      <td>AZ</td>\n",
       "      <td>85295</td>\n",
       "      <td>(480) 366-8477</td>\n",
       "      <td>33.308807</td>\n",
       "      <td>-111.742700</td>\n",
       "    </tr>\n",
       "  </tbody>\n",
       "</table>\n",
       "</div>"
      ],
      "text/plain": [
       "                  Store_Name               Street_Address        City State  \\\n",
       "0                 The Summit         217 Summit Boulevard  Birmingham    AL   \n",
       "1              Bridge Street        320 The Bridge Street  Huntsville    AL   \n",
       "2  Anchorage 5th Avenue Mall          320 West 5th Avenue   Anchorage    AK   \n",
       "3    Chandler Fashion Center    3111 W Chandler Boulevard    Chandler    AZ   \n",
       "4             SanTan Village  2218 E. Williams Field Road     Gilbert    AZ   \n",
       "\n",
       "     Zip           Phone   Latitude   Longitude  \n",
       "0  35243  (205) 909-2570  33.446515  -86.729632  \n",
       "1  35806  (256) 327-8800  34.716019  -86.672816  \n",
       "2  99501  (907) 257-1900  61.217081 -149.888511  \n",
       "3  85226  (480) 636-3900  33.305673 -111.897756  \n",
       "4  85295  (480) 366-8477  33.308807 -111.742700  "
      ]
     },
     "execution_count": 14,
     "metadata": {},
     "output_type": "execute_result"
    }
   ],
   "source": [
    "df.head()"
   ]
  },
  {
   "cell_type": "code",
   "execution_count": 15,
   "id": "25a73b4d",
   "metadata": {},
   "outputs": [
    {
     "data": {
      "text/html": [
       "<div>\n",
       "<style scoped>\n",
       "    .dataframe tbody tr th:only-of-type {\n",
       "        vertical-align: middle;\n",
       "    }\n",
       "\n",
       "    .dataframe tbody tr th {\n",
       "        vertical-align: top;\n",
       "    }\n",
       "\n",
       "    .dataframe thead th {\n",
       "        text-align: right;\n",
       "    }\n",
       "</style>\n",
       "<table border=\"1\" class=\"dataframe\">\n",
       "  <thead>\n",
       "    <tr style=\"text-align: right;\">\n",
       "      <th></th>\n",
       "      <th>Store_Name</th>\n",
       "      <th>Street_Address</th>\n",
       "      <th>City</th>\n",
       "      <th>State</th>\n",
       "      <th>Zip</th>\n",
       "      <th>Phone</th>\n",
       "      <th>Latitude</th>\n",
       "      <th>Longitude</th>\n",
       "    </tr>\n",
       "  </thead>\n",
       "  <tbody>\n",
       "    <tr>\n",
       "      <th>265</th>\n",
       "      <td>Tacoma Mall</td>\n",
       "      <td>4502 S Steele Street</td>\n",
       "      <td>Tacoma</td>\n",
       "      <td>WA</td>\n",
       "      <td>98409</td>\n",
       "      <td>(253) 620-1454</td>\n",
       "      <td>47.216417</td>\n",
       "      <td>-122.467857</td>\n",
       "    </tr>\n",
       "    <tr>\n",
       "      <th>266</th>\n",
       "      <td>Southcenter</td>\n",
       "      <td>801 Southcenter Mall</td>\n",
       "      <td>Tukwila</td>\n",
       "      <td>WA</td>\n",
       "      <td>98188</td>\n",
       "      <td>(206) 288-4400</td>\n",
       "      <td>47.459419</td>\n",
       "      <td>-122.260765</td>\n",
       "    </tr>\n",
       "    <tr>\n",
       "      <th>267</th>\n",
       "      <td>Bayshore</td>\n",
       "      <td>5715 N Centerpark Way</td>\n",
       "      <td>Glendale</td>\n",
       "      <td>WI</td>\n",
       "      <td>53217</td>\n",
       "      <td>(414) 977-3410</td>\n",
       "      <td>43.121606</td>\n",
       "      <td>-87.915052</td>\n",
       "    </tr>\n",
       "    <tr>\n",
       "      <th>268</th>\n",
       "      <td>West Towne</td>\n",
       "      <td>18 West Towne Mall</td>\n",
       "      <td>Madison</td>\n",
       "      <td>WI</td>\n",
       "      <td>53719</td>\n",
       "      <td>(608) 827-9840</td>\n",
       "      <td>43.057412</td>\n",
       "      <td>-89.512696</td>\n",
       "    </tr>\n",
       "    <tr>\n",
       "      <th>269</th>\n",
       "      <td>Mayfair</td>\n",
       "      <td>2500 N. Mayfair Road</td>\n",
       "      <td>Wauwatosa</td>\n",
       "      <td>WI</td>\n",
       "      <td>53226</td>\n",
       "      <td>(414) 290-9780</td>\n",
       "      <td>43.063848</td>\n",
       "      <td>-88.045648</td>\n",
       "    </tr>\n",
       "  </tbody>\n",
       "</table>\n",
       "</div>"
      ],
      "text/plain": [
       "      Store_Name         Street_Address       City State    Zip  \\\n",
       "265  Tacoma Mall   4502 S Steele Street     Tacoma    WA  98409   \n",
       "266  Southcenter   801 Southcenter Mall    Tukwila    WA  98188   \n",
       "267     Bayshore  5715 N Centerpark Way   Glendale    WI  53217   \n",
       "268   West Towne     18 West Towne Mall    Madison    WI  53719   \n",
       "269      Mayfair   2500 N. Mayfair Road  Wauwatosa    WI  53226   \n",
       "\n",
       "              Phone   Latitude   Longitude  \n",
       "265  (253) 620-1454  47.216417 -122.467857  \n",
       "266  (206) 288-4400  47.459419 -122.260765  \n",
       "267  (414) 977-3410  43.121606  -87.915052  \n",
       "268  (608) 827-9840  43.057412  -89.512696  \n",
       "269  (414) 290-9780  43.063848  -88.045648  "
      ]
     },
     "execution_count": 15,
     "metadata": {},
     "output_type": "execute_result"
    }
   ],
   "source": [
    "df.tail()"
   ]
  },
  {
   "cell_type": "code",
   "execution_count": 16,
   "id": "62ab0b68",
   "metadata": {},
   "outputs": [
    {
     "data": {
      "text/html": [
       "<div>\n",
       "<style scoped>\n",
       "    .dataframe tbody tr th:only-of-type {\n",
       "        vertical-align: middle;\n",
       "    }\n",
       "\n",
       "    .dataframe tbody tr th {\n",
       "        vertical-align: top;\n",
       "    }\n",
       "\n",
       "    .dataframe thead th {\n",
       "        text-align: right;\n",
       "    }\n",
       "</style>\n",
       "<table border=\"1\" class=\"dataframe\">\n",
       "  <thead>\n",
       "    <tr style=\"text-align: right;\">\n",
       "      <th></th>\n",
       "      <th>State</th>\n",
       "      <th>City</th>\n",
       "      <th>Population</th>\n",
       "      <th>Unnamed: 3</th>\n",
       "      <th>Unnamed: 4</th>\n",
       "      <th>Unnamed: 5</th>\n",
       "      <th>Unnamed: 6</th>\n",
       "    </tr>\n",
       "  </thead>\n",
       "  <tbody>\n",
       "    <tr>\n",
       "      <th>0</th>\n",
       "      <td>Alabama</td>\n",
       "      <td>Abernant</td>\n",
       "      <td>7,599</td>\n",
       "      <td>NaN</td>\n",
       "      <td>NaN</td>\n",
       "      <td>NaN</td>\n",
       "      <td>NaN</td>\n",
       "    </tr>\n",
       "    <tr>\n",
       "      <th>1</th>\n",
       "      <td>Alabama</td>\n",
       "      <td>Alabaster</td>\n",
       "      <td>31,545</td>\n",
       "      <td>NaN</td>\n",
       "      <td>NaN</td>\n",
       "      <td>NaN</td>\n",
       "      <td>NaN</td>\n",
       "    </tr>\n",
       "    <tr>\n",
       "      <th>2</th>\n",
       "      <td>Alabama</td>\n",
       "      <td>Albertville</td>\n",
       "      <td>21,458</td>\n",
       "      <td>NaN</td>\n",
       "      <td>NaN</td>\n",
       "      <td>NaN</td>\n",
       "      <td>NaN</td>\n",
       "    </tr>\n",
       "    <tr>\n",
       "      <th>3</th>\n",
       "      <td>Alabama</td>\n",
       "      <td>Alexander City</td>\n",
       "      <td>14,849</td>\n",
       "      <td>NaN</td>\n",
       "      <td>NaN</td>\n",
       "      <td>NaN</td>\n",
       "      <td>NaN</td>\n",
       "    </tr>\n",
       "    <tr>\n",
       "      <th>4</th>\n",
       "      <td>Alabama</td>\n",
       "      <td>Andalusia</td>\n",
       "      <td>9,081</td>\n",
       "      <td>NaN</td>\n",
       "      <td>NaN</td>\n",
       "      <td>NaN</td>\n",
       "      <td>NaN</td>\n",
       "    </tr>\n",
       "  </tbody>\n",
       "</table>\n",
       "</div>"
      ],
      "text/plain": [
       "     State            City Population  Unnamed: 3  Unnamed: 4  Unnamed: 5  \\\n",
       "0  Alabama        Abernant      7,599         NaN         NaN         NaN   \n",
       "1  Alabama       Alabaster     31,545         NaN         NaN         NaN   \n",
       "2  Alabama     Albertville     21,458         NaN         NaN         NaN   \n",
       "3  Alabama  Alexander City     14,849         NaN         NaN         NaN   \n",
       "4  Alabama       Andalusia      9,081         NaN         NaN         NaN   \n",
       "\n",
       "   Unnamed: 6  \n",
       "0         NaN  \n",
       "1         NaN  \n",
       "2         NaN  \n",
       "3         NaN  \n",
       "4         NaN  "
      ]
     },
     "execution_count": 16,
     "metadata": {},
     "output_type": "execute_result"
    }
   ],
   "source": [
    "pop.head()"
   ]
  },
  {
   "cell_type": "code",
   "execution_count": 17,
   "id": "003c3f08",
   "metadata": {},
   "outputs": [
    {
     "data": {
      "text/html": [
       "<div>\n",
       "<style scoped>\n",
       "    .dataframe tbody tr th:only-of-type {\n",
       "        vertical-align: middle;\n",
       "    }\n",
       "\n",
       "    .dataframe tbody tr th {\n",
       "        vertical-align: top;\n",
       "    }\n",
       "\n",
       "    .dataframe thead th {\n",
       "        text-align: right;\n",
       "    }\n",
       "</style>\n",
       "<table border=\"1\" class=\"dataframe\">\n",
       "  <thead>\n",
       "    <tr style=\"text-align: right;\">\n",
       "      <th></th>\n",
       "      <th>State</th>\n",
       "      <th>City</th>\n",
       "      <th>Population</th>\n",
       "      <th>Unnamed: 3</th>\n",
       "      <th>Unnamed: 4</th>\n",
       "      <th>Unnamed: 5</th>\n",
       "      <th>Unnamed: 6</th>\n",
       "    </tr>\n",
       "  </thead>\n",
       "  <tbody>\n",
       "    <tr>\n",
       "      <th>7694</th>\n",
       "      <td>NaN</td>\n",
       "      <td>NaN</td>\n",
       "      <td>NaN</td>\n",
       "      <td>NaN</td>\n",
       "      <td>NaN</td>\n",
       "      <td>NaN</td>\n",
       "      <td>NaN</td>\n",
       "    </tr>\n",
       "    <tr>\n",
       "      <th>7695</th>\n",
       "      <td>NaN</td>\n",
       "      <td>NaN</td>\n",
       "      <td>NaN</td>\n",
       "      <td>NaN</td>\n",
       "      <td>NaN</td>\n",
       "      <td>NaN</td>\n",
       "      <td>NaN</td>\n",
       "    </tr>\n",
       "    <tr>\n",
       "      <th>7696</th>\n",
       "      <td>NaN</td>\n",
       "      <td>NaN</td>\n",
       "      <td>NaN</td>\n",
       "      <td>NaN</td>\n",
       "      <td>NaN</td>\n",
       "      <td>NaN</td>\n",
       "      <td>NaN</td>\n",
       "    </tr>\n",
       "    <tr>\n",
       "      <th>7697</th>\n",
       "      <td>NaN</td>\n",
       "      <td>NaN</td>\n",
       "      <td>NaN</td>\n",
       "      <td>NaN</td>\n",
       "      <td>NaN</td>\n",
       "      <td>NaN</td>\n",
       "      <td>NaN</td>\n",
       "    </tr>\n",
       "    <tr>\n",
       "      <th>7698</th>\n",
       "      <td>NaN</td>\n",
       "      <td>NaN</td>\n",
       "      <td>NaN</td>\n",
       "      <td>NaN</td>\n",
       "      <td>NaN</td>\n",
       "      <td>NaN</td>\n",
       "      <td>NaN</td>\n",
       "    </tr>\n",
       "  </tbody>\n",
       "</table>\n",
       "</div>"
      ],
      "text/plain": [
       "     State City Population  Unnamed: 3  Unnamed: 4  Unnamed: 5  Unnamed: 6\n",
       "7694   NaN  NaN        NaN         NaN         NaN         NaN         NaN\n",
       "7695   NaN  NaN        NaN         NaN         NaN         NaN         NaN\n",
       "7696   NaN  NaN        NaN         NaN         NaN         NaN         NaN\n",
       "7697   NaN  NaN        NaN         NaN         NaN         NaN         NaN\n",
       "7698   NaN  NaN        NaN         NaN         NaN         NaN         NaN"
      ]
     },
     "execution_count": 17,
     "metadata": {},
     "output_type": "execute_result"
    }
   ],
   "source": [
    "pop.tail()"
   ]
  },
  {
   "cell_type": "markdown",
   "id": "ab67a813",
   "metadata": {},
   "source": [
    "Remove unwanted/unused attributes/columns from each file"
   ]
  },
  {
   "cell_type": "code",
   "execution_count": 18,
   "id": "27a4bc51",
   "metadata": {},
   "outputs": [],
   "source": [
    "df_new = df.drop(columns=['Latitude','Longitude'])"
   ]
  },
  {
   "cell_type": "code",
   "execution_count": 20,
   "id": "0440ad31",
   "metadata": {},
   "outputs": [],
   "source": [
    "pop_new = pop[['State','Population']]"
   ]
  },
  {
   "cell_type": "markdown",
   "id": "4b27dd40",
   "metadata": {},
   "source": [
    "Check if unwanted/unused attributes/columns have been dropped/removed"
   ]
  },
  {
   "cell_type": "code",
   "execution_count": 19,
   "id": "9234fff5",
   "metadata": {},
   "outputs": [
    {
     "name": "stdout",
     "output_type": "stream",
     "text": [
      "Store_Name <class 'str'>\n",
      "Street_Address <class 'str'>\n",
      "City <class 'str'>\n",
      "State <class 'str'>\n",
      "Zip <class 'numpy.int64'>\n",
      "Phone <class 'str'>\n"
     ]
    }
   ],
   "source": [
    "for col in df_new.columns:\n",
    "    print(col, type(df_new[col][0]))"
   ]
  },
  {
   "cell_type": "code",
   "execution_count": 21,
   "id": "d73d5865",
   "metadata": {},
   "outputs": [
    {
     "name": "stdout",
     "output_type": "stream",
     "text": [
      "State <class 'str'>\n",
      "Population <class 'str'>\n"
     ]
    }
   ],
   "source": [
    "for col in pop_new.columns:\n",
    "    print(col, type(pop_new[col][0]))"
   ]
  },
  {
   "cell_type": "markdown",
   "id": "9e52da1a",
   "metadata": {},
   "source": [
    "Count how many Apple Stores are in each state"
   ]
  },
  {
   "cell_type": "code",
   "execution_count": 25,
   "id": "daab8ea2",
   "metadata": {},
   "outputs": [
    {
     "name": "stdout",
     "output_type": "stream",
     "text": [
      "CA    53\n",
      "NY    21\n",
      "TX    18\n",
      "FL    17\n",
      "NJ    12\n",
      "MA    11\n",
      "VA     9\n",
      "IL     9\n",
      "PA     9\n",
      "OH     8\n",
      "CT     7\n",
      "CO     6\n",
      "WA     6\n",
      "GA     6\n",
      "AZ     6\n",
      "MI     6\n",
      "MN     5\n",
      "MD     5\n",
      "NV     5\n",
      "NC     5\n",
      "TN     4\n",
      "OR     3\n",
      "MO     3\n",
      "NH     3\n",
      "UT     3\n",
      "WI     3\n",
      "HI     3\n",
      "AL     2\n",
      "SC     2\n",
      "LA     2\n",
      "KY     2\n",
      "OK     2\n",
      "IN     2\n",
      "AR     1\n",
      "DE     1\n",
      "DC     1\n",
      "ID     1\n",
      "NE     1\n",
      "RI     1\n",
      "MS     1\n",
      "KS     1\n",
      "NM     1\n",
      "ME     1\n",
      "AK     1\n",
      "IA     1\n",
      "Name: State, dtype: int64\n"
     ]
    }
   ],
   "source": [
    "state_counts = df['State'].value_counts()\n",
    "print(state_counts)"
   ]
  },
  {
   "cell_type": "markdown",
   "id": "b6bda017",
   "metadata": {},
   "source": [
    "Create Bar Graph with state_counts variable"
   ]
  },
  {
   "cell_type": "code",
   "execution_count": 33,
   "id": "aa0c0876",
   "metadata": {},
   "outputs": [
    {
     "data": {
      "text/plain": [
       "Text(0.5, 1.0, 'US Apple Stores Across the States')"
      ]
     },
     "execution_count": 33,
     "metadata": {},
     "output_type": "execute_result"
    },
    {
     "data": {
      "image/png": "[encoded data removed]",
      "text/plain": [
       "<Figure size 720x720 with 1 Axes>"
      ]
     },
     "metadata": {
      "needs_background": "light"
     },
     "output_type": "display_data"
    }
   ],
   "source": [
    "state_counts.plot.bar()\n",
    "plt.xlabel('State')\n",
    "plt.ylabel('Number of Stores')\n",
    "plt.rcParams[\"figure.figsize\"] = 10,10\n",
    "plt.title('US Apple Stores Across the States')"
   ]
  },
  {
   "cell_type": "markdown",
   "id": "b80aa3c4",
   "metadata": {},
   "source": [
    "Display data types for pop_new"
   ]
  },
  {
   "cell_type": "code",
   "execution_count": 42,
   "id": "18ee1678",
   "metadata": {},
   "outputs": [
    {
     "data": {
      "text/plain": [
       "State          object\n",
       "Population    float64\n",
       "dtype: object"
      ]
     },
     "metadata": {},
     "output_type": "display_data"
    }
   ],
   "source": [
    "display(pop_new.dtypes)"
   ]
  },
  {
   "cell_type": "markdown",
   "id": "c793c406",
   "metadata": {},
   "source": [
    "Convert 'Population' attribute to float format "
   ]
  },
  {
   "cell_type": "code",
   "execution_count": 43,
   "id": "b1d83901",
   "metadata": {},
   "outputs": [],
   "source": [
    "pd.options.display.float_format = '{:.0f}'.format"
   ]
  },
  {
   "cell_type": "markdown",
   "id": "5c4344ef",
   "metadata": {},
   "source": [
    "Check first few rows with head function to ensure proper formatting"
   ]
  },
  {
   "cell_type": "code",
   "execution_count": 45,
   "id": "068679af",
   "metadata": {},
   "outputs": [
    {
     "data": {
      "text/html": [
       "<div>\n",
       "<style scoped>\n",
       "    .dataframe tbody tr th:only-of-type {\n",
       "        vertical-align: middle;\n",
       "    }\n",
       "\n",
       "    .dataframe tbody tr th {\n",
       "        vertical-align: top;\n",
       "    }\n",
       "\n",
       "    .dataframe thead th {\n",
       "        text-align: right;\n",
       "    }\n",
       "</style>\n",
       "<table border=\"1\" class=\"dataframe\">\n",
       "  <thead>\n",
       "    <tr style=\"text-align: right;\">\n",
       "      <th></th>\n",
       "      <th>State</th>\n",
       "      <th>Population</th>\n",
       "    </tr>\n",
       "  </thead>\n",
       "  <tbody>\n",
       "    <tr>\n",
       "      <th>0</th>\n",
       "      <td>Alabama</td>\n",
       "      <td>7599</td>\n",
       "    </tr>\n",
       "    <tr>\n",
       "      <th>1</th>\n",
       "      <td>Alabama</td>\n",
       "      <td>31545</td>\n",
       "    </tr>\n",
       "    <tr>\n",
       "      <th>2</th>\n",
       "      <td>Alabama</td>\n",
       "      <td>21458</td>\n",
       "    </tr>\n",
       "    <tr>\n",
       "      <th>3</th>\n",
       "      <td>Alabama</td>\n",
       "      <td>14849</td>\n",
       "    </tr>\n",
       "    <tr>\n",
       "      <th>4</th>\n",
       "      <td>Alabama</td>\n",
       "      <td>9081</td>\n",
       "    </tr>\n",
       "  </tbody>\n",
       "</table>\n",
       "</div>"
      ],
      "text/plain": [
       "     State  Population\n",
       "0  Alabama        7599\n",
       "1  Alabama       31545\n",
       "2  Alabama       21458\n",
       "3  Alabama       14849\n",
       "4  Alabama        9081"
      ]
     },
     "execution_count": 45,
     "metadata": {},
     "output_type": "execute_result"
    }
   ],
   "source": [
    "pop_new.head()"
   ]
  },
  {
   "cell_type": "markdown",
   "id": "4d4cd055",
   "metadata": {},
   "source": [
    "Group Population by State using the Sum operator"
   ]
  },
  {
   "cell_type": "code",
   "execution_count": 46,
   "id": "d7a86d8b",
   "metadata": {},
   "outputs": [
    {
     "data": {
      "text/html": [
       "<div>\n",
       "<style scoped>\n",
       "    .dataframe tbody tr th:only-of-type {\n",
       "        vertical-align: middle;\n",
       "    }\n",
       "\n",
       "    .dataframe tbody tr th {\n",
       "        vertical-align: top;\n",
       "    }\n",
       "\n",
       "    .dataframe thead th {\n",
       "        text-align: right;\n",
       "    }\n",
       "</style>\n",
       "<table border=\"1\" class=\"dataframe\">\n",
       "  <thead>\n",
       "    <tr style=\"text-align: right;\">\n",
       "      <th></th>\n",
       "      <th>Population</th>\n",
       "    </tr>\n",
       "    <tr>\n",
       "      <th>State</th>\n",
       "      <th></th>\n",
       "    </tr>\n",
       "  </thead>\n",
       "  <tbody>\n",
       "    <tr>\n",
       "      <th>Alabama</th>\n",
       "      <td>2871858</td>\n",
       "    </tr>\n",
       "    <tr>\n",
       "      <th>Alaska</th>\n",
       "      <td>504693</td>\n",
       "    </tr>\n",
       "    <tr>\n",
       "      <th>Arizona</th>\n",
       "      <td>6414744</td>\n",
       "    </tr>\n",
       "    <tr>\n",
       "      <th>Arkansas</th>\n",
       "      <td>1506563</td>\n",
       "    </tr>\n",
       "    <tr>\n",
       "      <th>California</th>\n",
       "      <td>42058827</td>\n",
       "    </tr>\n",
       "    <tr>\n",
       "      <th>Colorado</th>\n",
       "      <td>5835761</td>\n",
       "    </tr>\n",
       "    <tr>\n",
       "      <th>Connecticut</th>\n",
       "      <td>3438343</td>\n",
       "    </tr>\n",
       "    <tr>\n",
       "      <th>DC</th>\n",
       "      <td>658893</td>\n",
       "    </tr>\n",
       "    <tr>\n",
       "      <th>Delaware</th>\n",
       "      <td>656848</td>\n",
       "    </tr>\n",
       "    <tr>\n",
       "      <th>Florida</th>\n",
       "      <td>16550475</td>\n",
       "    </tr>\n",
       "    <tr>\n",
       "      <th>Georgia</th>\n",
       "      <td>5182114</td>\n",
       "    </tr>\n",
       "    <tr>\n",
       "      <th>Hawaii</th>\n",
       "      <td>1983245</td>\n",
       "    </tr>\n",
       "    <tr>\n",
       "      <th>Idaho</th>\n",
       "      <td>1034022</td>\n",
       "    </tr>\n",
       "    <tr>\n",
       "      <th>Illinois</th>\n",
       "      <td>10051297</td>\n",
       "    </tr>\n",
       "    <tr>\n",
       "      <th>Indiana</th>\n",
       "      <td>3828450</td>\n",
       "    </tr>\n",
       "    <tr>\n",
       "      <th>Iowa</th>\n",
       "      <td>1732604</td>\n",
       "    </tr>\n",
       "    <tr>\n",
       "      <th>Kansas</th>\n",
       "      <td>1959487</td>\n",
       "    </tr>\n",
       "    <tr>\n",
       "      <th>Kentucky</th>\n",
       "      <td>2239385</td>\n",
       "    </tr>\n",
       "    <tr>\n",
       "      <th>Louisiana</th>\n",
       "      <td>2480850</td>\n",
       "    </tr>\n",
       "    <tr>\n",
       "      <th>Maine</th>\n",
       "      <td>544762</td>\n",
       "    </tr>\n",
       "    <tr>\n",
       "      <th>Maryland</th>\n",
       "      <td>4807038</td>\n",
       "    </tr>\n",
       "    <tr>\n",
       "      <th>Massachusetts</th>\n",
       "      <td>6041057</td>\n",
       "    </tr>\n",
       "    <tr>\n",
       "      <th>Michigan</th>\n",
       "      <td>5149402</td>\n",
       "    </tr>\n",
       "    <tr>\n",
       "      <th>Minnesota</th>\n",
       "      <td>3734330</td>\n",
       "    </tr>\n",
       "    <tr>\n",
       "      <th>Mississippi</th>\n",
       "      <td>1238151</td>\n",
       "    </tr>\n",
       "    <tr>\n",
       "      <th>Missouri</th>\n",
       "      <td>3400307</td>\n",
       "    </tr>\n",
       "    <tr>\n",
       "      <th>Montana</th>\n",
       "      <td>540568</td>\n",
       "    </tr>\n",
       "    <tr>\n",
       "      <th>Nebraska</th>\n",
       "      <td>1177532</td>\n",
       "    </tr>\n",
       "    <tr>\n",
       "      <th>Nevada</th>\n",
       "      <td>2731604</td>\n",
       "    </tr>\n",
       "    <tr>\n",
       "      <th>New Hampshire</th>\n",
       "      <td>756323</td>\n",
       "    </tr>\n",
       "    <tr>\n",
       "      <th>New Jersey</th>\n",
       "      <td>5713408</td>\n",
       "    </tr>\n",
       "    <tr>\n",
       "      <th>New Mexico</th>\n",
       "      <td>1546636</td>\n",
       "    </tr>\n",
       "    <tr>\n",
       "      <th>New York</th>\n",
       "      <td>25351432</td>\n",
       "    </tr>\n",
       "    <tr>\n",
       "      <th>North Carolina</th>\n",
       "      <td>5040198</td>\n",
       "    </tr>\n",
       "    <tr>\n",
       "      <th>North Dakota</th>\n",
       "      <td>425601</td>\n",
       "    </tr>\n",
       "    <tr>\n",
       "      <th>Ohio</th>\n",
       "      <td>6941942</td>\n",
       "    </tr>\n",
       "    <tr>\n",
       "      <th>Oklahoma</th>\n",
       "      <td>2827516</td>\n",
       "    </tr>\n",
       "    <tr>\n",
       "      <th>Oregon</th>\n",
       "      <td>3388467</td>\n",
       "    </tr>\n",
       "    <tr>\n",
       "      <th>Pennsylvania</th>\n",
       "      <td>5183353</td>\n",
       "    </tr>\n",
       "    <tr>\n",
       "      <th>Rhode Island</th>\n",
       "      <td>1082074</td>\n",
       "    </tr>\n",
       "    <tr>\n",
       "      <th>South Carolina</th>\n",
       "      <td>2160264</td>\n",
       "    </tr>\n",
       "    <tr>\n",
       "      <th>South Dakota</th>\n",
       "      <td>434697</td>\n",
       "    </tr>\n",
       "    <tr>\n",
       "      <th>Tennessee</th>\n",
       "      <td>4773300</td>\n",
       "    </tr>\n",
       "    <tr>\n",
       "      <th>Texas</th>\n",
       "      <td>21758409</td>\n",
       "    </tr>\n",
       "    <tr>\n",
       "      <th>Utah</th>\n",
       "      <td>2947568</td>\n",
       "    </tr>\n",
       "    <tr>\n",
       "      <th>Vermont</th>\n",
       "      <td>209090</td>\n",
       "    </tr>\n",
       "    <tr>\n",
       "      <th>Virginia</th>\n",
       "      <td>4979472</td>\n",
       "    </tr>\n",
       "    <tr>\n",
       "      <th>Washington</th>\n",
       "      <td>6586602</td>\n",
       "    </tr>\n",
       "    <tr>\n",
       "      <th>West Virginia</th>\n",
       "      <td>461859</td>\n",
       "    </tr>\n",
       "    <tr>\n",
       "      <th>Wisconsin</th>\n",
       "      <td>3554311</td>\n",
       "    </tr>\n",
       "    <tr>\n",
       "      <th>Wyoming</th>\n",
       "      <td>370895</td>\n",
       "    </tr>\n",
       "  </tbody>\n",
       "</table>\n",
       "</div>"
      ],
      "text/plain": [
       "                Population\n",
       "State                     \n",
       "Alabama            2871858\n",
       "Alaska              504693\n",
       "Arizona            6414744\n",
       "Arkansas           1506563\n",
       "California        42058827\n",
       "Colorado           5835761\n",
       "Connecticut        3438343\n",
       "DC                  658893\n",
       "Delaware            656848\n",
       "Florida           16550475\n",
       "Georgia            5182114\n",
       "Hawaii             1983245\n",
       "Idaho              1034022\n",
       "Illinois          10051297\n",
       "Indiana            3828450\n",
       "Iowa               1732604\n",
       "Kansas             1959487\n",
       "Kentucky           2239385\n",
       "Louisiana          2480850\n",
       "Maine               544762\n",
       "Maryland           4807038\n",
       "Massachusetts      6041057\n",
       "Michigan           5149402\n",
       "Minnesota          3734330\n",
       "Mississippi        1238151\n",
       "Missouri           3400307\n",
       "Montana             540568\n",
       "Nebraska           1177532\n",
       "Nevada             2731604\n",
       "New Hampshire       756323\n",
       "New Jersey         5713408\n",
       "New Mexico         1546636\n",
       "New York          25351432\n",
       "North Carolina     5040198\n",
       "North Dakota        425601\n",
       "Ohio               6941942\n",
       "Oklahoma           2827516\n",
       "Oregon             3388467\n",
       "Pennsylvania       5183353\n",
       "Rhode Island       1082074\n",
       "South Carolina     2160264\n",
       "South Dakota        434697\n",
       "Tennessee          4773300\n",
       "Texas             21758409\n",
       "Utah               2947568\n",
       "Vermont             209090\n",
       "Virginia           4979472\n",
       "Washington         6586602\n",
       "West Virginia       461859\n",
       "Wisconsin          3554311\n",
       "Wyoming             370895"
      ]
     },
     "execution_count": 46,
     "metadata": {},
     "output_type": "execute_result"
    }
   ],
   "source": [
    "pop_new.groupby(['State']).sum()"
   ]
  },
  {
   "cell_type": "markdown",
   "id": "c7d7109f",
   "metadata": {},
   "source": [
    "Create variable to store states population summary analysis "
   ]
  },
  {
   "cell_type": "code",
   "execution_count": 49,
   "id": "5f1cc497",
   "metadata": {},
   "outputs": [],
   "source": [
    "pop_sum = pop_new.groupby(['State']).sum()"
   ]
  },
  {
   "cell_type": "markdown",
   "id": "168c5f3c",
   "metadata": {},
   "source": [
    "Create a bar graph with pop_sum variable of US States Population"
   ]
  },
  {
   "cell_type": "code",
   "execution_count": 51,
   "id": "8fb8c46e",
   "metadata": {},
   "outputs": [
    {
     "data": {
      "text/plain": [
       "Text(0.5, 1.0, 'Population Across the States')"
      ]
     },
     "execution_count": 51,
     "metadata": {},
     "output_type": "execute_result"
    },
    {
     "data": {
      "image/png": "[encoded data removed]",
      "text/plain": [
       "<Figure size 720x720 with 1 Axes>"
      ]
     },
     "metadata": {
      "needs_background": "light"
     },
     "output_type": "display_data"
    }
   ],
   "source": [
    "pop_sum.plot.bar()\n",
    "plt.xlabel('State')\n",
    "plt.ylabel('Population')\n",
    "plt.rcParams[\"figure.figsize\"] = 10,10\n",
    "plt.title('Population Across the States')"
   ]
  },
  {
   "cell_type": "markdown",
   "id": "f136aa37",
   "metadata": {},
   "source": [
    "Export a copy of the new/revised csv files"
   ]
  },
  {
   "cell_type": "code",
   "execution_count": 52,
   "id": "ecb020a6",
   "metadata": {},
   "outputs": [],
   "source": [
    "state_counts.to_csv('USAppleStoresStates.csv', index=False)\n",
    "pop_sum.to_csv('USPopulationByStates.csv', index=False)"
   ]
  }
 ],
 "metadata": {
  "kernelspec": {
   "display_name": "Python 3 (ipykernel)",
   "language": "python",
   "name": "python3"
  },
  "language_info": {
   "codemirror_mode": {
    "name": "ipython",
    "version": 3
   },
   "file_extension": ".py",
   "mimetype": "text/x-python",
   "name": "python",
   "nbconvert_exporter": "python",
   "pygments_lexer": "ipython3",
   "version": "3.9.1"
  }
 },
 "nbformat": 4,
 "nbformat_minor": 5
}
